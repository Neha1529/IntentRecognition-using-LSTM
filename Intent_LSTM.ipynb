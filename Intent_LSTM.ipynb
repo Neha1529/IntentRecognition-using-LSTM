{
  "nbformat": 4,
  "nbformat_minor": 0,
  "metadata": {
    "colab": {
      "name": "Intent_LSTM.ipynb",
      "provenance": []
    },
    "kernelspec": {
      "name": "python3",
      "display_name": "Python 3"
    }
  },
  "cells": [
    {
      "cell_type": "code",
      "metadata": {
        "id": "vUMP4WkBVVZp",
        "colab_type": "code",
        "colab": {
          "base_uri": "https://localhost:8080/",
          "height": 35
        },
        "outputId": "6b0c25b2-6ee3-406e-b3de-26497fcf9be5"
      },
      "source": [
        "#importing necessary dependencies\n",
        "\n",
        "import numpy as np\n",
        "import pandas as pd\n",
        "from nltk.corpus import stopwords\n",
        "from nltk.tokenize import word_tokenize\n",
        "from nltk.stem.porter import PorterStemmer\n",
        "import nltk\n",
        "import re\n",
        "from sklearn.preprocessing import OneHotEncoder\n",
        "\n",
        "from sklearn.model_selection import train_test_split\n",
        "from keras.preprocessing.text import Tokenizer\n",
        "from keras.preprocessing.sequence import pad_sequences\n",
        "from keras.utils import to_categorical\n",
        "from keras.models import Sequential, load_model\n",
        "from keras.layers import Dense,LSTM, Bidirectional, Embedding, Dropout\n",
        "from keras.callbacks import ModelCheckpoint\n"
      ],
      "execution_count": 1,
      "outputs": [
        {
          "output_type": "stream",
          "text": [
            "Using TensorFlow backend.\n"
          ],
          "name": "stderr"
        }
      ]
    },
    {
      "cell_type": "code",
      "metadata": {
        "id": "M0aXcMcQVkrU",
        "colab_type": "code",
        "colab": {
          "resources": {
            "http://localhost:8080/nbextensions/google.colab/files.js": {
              "data": "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",
              "ok": true,
              "headers": [
                [
                  "content-type",
                  "application/javascript"
                ]
              ],
              "status": 200,
              "status_text": "OK"
            }
          },
          "base_uri": "https://localhost:8080/",
          "height": 75
        },
        "outputId": "55f39abc-619a-4de4-b6bd-cbcd10fe89ee"
      },
      "source": [
        "from google.colab import files\n",
        "train_uploaded = files.upload()"
      ],
      "execution_count": 2,
      "outputs": [
        {
          "output_type": "display_data",
          "data": {
            "text/html": [
              "\n",
              "     <input type=\"file\" id=\"files-46505abe-6635-457d-bf8a-4a9609e9032b\" name=\"files[]\" multiple disabled\n",
              "        style=\"border:none\" />\n",
              "     <output id=\"result-46505abe-6635-457d-bf8a-4a9609e9032b\">\n",
              "      Upload widget is only available when the cell has been executed in the\n",
              "      current browser session. Please rerun this cell to enable.\n",
              "      </output>\n",
              "      <script src=\"/nbextensions/google.colab/files.js\"></script> "
            ],
            "text/plain": [
              "<IPython.core.display.HTML object>"
            ]
          },
          "metadata": {
            "tags": []
          }
        },
        {
          "output_type": "stream",
          "text": [
            "Saving train.csv to train (2).csv\n"
          ],
          "name": "stdout"
        }
      ]
    },
    {
      "cell_type": "code",
      "metadata": {
        "id": "jAGby47GVss6",
        "colab_type": "code",
        "colab": {}
      },
      "source": [
        "import io\n",
        "data = pd.read_csv(io.BytesIO(train_uploaded['train.csv']))"
      ],
      "execution_count": 3,
      "outputs": []
    },
    {
      "cell_type": "code",
      "metadata": {
        "id": "u7yYqRURV8U9",
        "colab_type": "code",
        "colab": {}
      },
      "source": [
        "dummy_data = data[:7000]"
      ],
      "execution_count": 4,
      "outputs": []
    },
    {
      "cell_type": "code",
      "metadata": {
        "id": "yEvXC7X_WFmh",
        "colab_type": "code",
        "colab": {
          "base_uri": "https://localhost:8080/",
          "height": 35
        },
        "outputId": "aa2966d3-6eda-44b7-a2a5-95a68cef341d"
      },
      "source": [
        "dummy_data.shape"
      ],
      "execution_count": 5,
      "outputs": [
        {
          "output_type": "execute_result",
          "data": {
            "text/plain": [
              "(7000, 2)"
            ]
          },
          "metadata": {
            "tags": []
          },
          "execution_count": 5
        }
      ]
    },
    {
      "cell_type": "code",
      "metadata": {
        "id": "bm8cMon3WIuE",
        "colab_type": "code",
        "colab": {
          "base_uri": "https://localhost:8080/",
          "height": 206
        },
        "outputId": "5a60930f-42ac-4b61-a8e4-bb3e6fb9e4eb"
      },
      "source": [
        "dummy_data.head()"
      ],
      "execution_count": 6,
      "outputs": [
        {
          "output_type": "execute_result",
          "data": {
            "text/html": [
              "<div>\n",
              "<style scoped>\n",
              "    .dataframe tbody tr th:only-of-type {\n",
              "        vertical-align: middle;\n",
              "    }\n",
              "\n",
              "    .dataframe tbody tr th {\n",
              "        vertical-align: top;\n",
              "    }\n",
              "\n",
              "    .dataframe thead th {\n",
              "        text-align: right;\n",
              "    }\n",
              "</style>\n",
              "<table border=\"1\" class=\"dataframe\">\n",
              "  <thead>\n",
              "    <tr style=\"text-align: right;\">\n",
              "      <th></th>\n",
              "      <th>text</th>\n",
              "      <th>intent</th>\n",
              "    </tr>\n",
              "  </thead>\n",
              "  <tbody>\n",
              "    <tr>\n",
              "      <th>0</th>\n",
              "      <td>listen to westbam alumb allergic on google music</td>\n",
              "      <td>PlayMusic</td>\n",
              "    </tr>\n",
              "    <tr>\n",
              "      <th>1</th>\n",
              "      <td>add step to me to the 50 clásicos playlist</td>\n",
              "      <td>AddToPlaylist</td>\n",
              "    </tr>\n",
              "    <tr>\n",
              "      <th>2</th>\n",
              "      <td>i give this current textbook a rating value of...</td>\n",
              "      <td>RateBook</td>\n",
              "    </tr>\n",
              "    <tr>\n",
              "      <th>3</th>\n",
              "      <td>play the song little robin redbreast</td>\n",
              "      <td>PlayMusic</td>\n",
              "    </tr>\n",
              "    <tr>\n",
              "      <th>4</th>\n",
              "      <td>please add iris dement to my playlist this is ...</td>\n",
              "      <td>AddToPlaylist</td>\n",
              "    </tr>\n",
              "  </tbody>\n",
              "</table>\n",
              "</div>"
            ],
            "text/plain": [
              "                                                text         intent\n",
              "0   listen to westbam alumb allergic on google music      PlayMusic\n",
              "1         add step to me to the 50 clásicos playlist  AddToPlaylist\n",
              "2  i give this current textbook a rating value of...       RateBook\n",
              "3               play the song little robin redbreast      PlayMusic\n",
              "4  please add iris dement to my playlist this is ...  AddToPlaylist"
            ]
          },
          "metadata": {
            "tags": []
          },
          "execution_count": 6
        }
      ]
    },
    {
      "cell_type": "code",
      "metadata": {
        "id": "ZWgvOuvlWRlp",
        "colab_type": "code",
        "colab": {}
      },
      "source": [
        "sentences = list(dummy_data[\"text\"])\n",
        "unique_intent = list(set(dummy_data.intent))"
      ],
      "execution_count": 7,
      "outputs": []
    },
    {
      "cell_type": "code",
      "metadata": {
        "id": "vaH9jrcUWuFc",
        "colab_type": "code",
        "colab": {
          "base_uri": "https://localhost:8080/",
          "height": 109
        },
        "outputId": "ac4d96a2-73dd-479c-a1b5-276b239cc64a"
      },
      "source": [
        "nltk.download(\"stopwords\")\n",
        "nltk.download(\"punkt\")"
      ],
      "execution_count": 8,
      "outputs": [
        {
          "output_type": "stream",
          "text": [
            "[nltk_data] Downloading package stopwords to /root/nltk_data...\n",
            "[nltk_data]   Package stopwords is already up-to-date!\n",
            "[nltk_data] Downloading package punkt to /root/nltk_data...\n",
            "[nltk_data]   Package punkt is already up-to-date!\n"
          ],
          "name": "stdout"
        },
        {
          "output_type": "execute_result",
          "data": {
            "text/plain": [
              "True"
            ]
          },
          "metadata": {
            "tags": []
          },
          "execution_count": 8
        }
      ]
    },
    {
      "cell_type": "code",
      "metadata": {
        "id": "eiNHLN8DW1OP",
        "colab_type": "code",
        "colab": {}
      },
      "source": [
        "#cleaning the text and tokenizing \n",
        "\n",
        "def cleaning(sentences):\n",
        "  words = []\n",
        "  for s in sentences :\n",
        "    clean = re.sub(r'[^a-z A-Z 0-9]', \" \",s)\n",
        "    w = word_tokenize(clean)\n",
        "\n",
        "    words.append([i.lower() for i in w])\n",
        "  return words\n"
      ],
      "execution_count": 9,
      "outputs": []
    },
    {
      "cell_type": "code",
      "metadata": {
        "id": "EJJENkXQW7V9",
        "colab_type": "code",
        "colab": {
          "base_uri": "https://localhost:8080/",
          "height": 54
        },
        "outputId": "7c5b9a58-7957-4123-d703-99792f7212a0"
      },
      "source": [
        "cleaned_text = cleaning(sentences)\n",
        "print(len(cleaned_text))\n",
        "print(cleaned_text[:2])"
      ],
      "execution_count": 10,
      "outputs": [
        {
          "output_type": "stream",
          "text": [
            "7000\n",
            "[['listen', 'to', 'westbam', 'alumb', 'allergic', 'on', 'google', 'music'], ['add', 'step', 'to', 'me', 'to', 'the', '50', 'cl', 'sicos', 'playlist']]\n"
          ],
          "name": "stdout"
        }
      ]
    },
    {
      "cell_type": "code",
      "metadata": {
        "id": "2OY-ekyoW-0J",
        "colab_type": "code",
        "colab": {}
      },
      "source": [
        "def create_tokenizer(words, filters = '!\"#$%&()*+,-./:;<=>?@[\\]^_`{|}~'):\n",
        "  token = Tokenizer(filters = filters)\n",
        "  token.fit_on_texts(words)\n",
        "  return token"
      ],
      "execution_count": 11,
      "outputs": []
    },
    {
      "cell_type": "code",
      "metadata": {
        "id": "Cy92l8ipXhXf",
        "colab_type": "code",
        "colab": {}
      },
      "source": [
        "def max_length(words):\n",
        "  return(len(max(words, key = len)))"
      ],
      "execution_count": 12,
      "outputs": []
    },
    {
      "cell_type": "code",
      "metadata": {
        "id": "SM63lvqUXkHB",
        "colab_type": "code",
        "colab": {
          "base_uri": "https://localhost:8080/",
          "height": 35
        },
        "outputId": "f9b09ba5-da34-4e28-c58f-a86e8f419ae2"
      },
      "source": [
        "word_tokenizer = create_tokenizer(cleaned_text)\n",
        "vocab_size = len(word_tokenizer.word_index) + 1\n",
        "max_len = max_length(cleaned_text)\n",
        "\n",
        "print(\"Vocab Size = %d and Maximum length = %d\" % (vocab_size, max_len))"
      ],
      "execution_count": 13,
      "outputs": [
        {
          "output_type": "stream",
          "text": [
            "Vocab Size = 7563 and Maximum length = 33\n"
          ],
          "name": "stdout"
        }
      ]
    },
    {
      "cell_type": "code",
      "metadata": {
        "id": "JYJOAarYXmei",
        "colab_type": "code",
        "colab": {}
      },
      "source": [
        "def encoding_doc(token, words):\n",
        "  return(token.texts_to_sequences(words))"
      ],
      "execution_count": 14,
      "outputs": []
    },
    {
      "cell_type": "code",
      "metadata": {
        "id": "4XL6cVUtXsS4",
        "colab_type": "code",
        "colab": {}
      },
      "source": [
        "encoded_doc = encoding_doc(word_tokenizer, cleaned_text)"
      ],
      "execution_count": 15,
      "outputs": []
    },
    {
      "cell_type": "code",
      "metadata": {
        "id": "WZ5QF5j6XwLd",
        "colab_type": "code",
        "colab": {}
      },
      "source": [
        "def padding_doc(encoded_doc, max_length):\n",
        "  return(pad_sequences(encoded_doc , maxlen = max_len,padding=\"post\"))"
      ],
      "execution_count": 16,
      "outputs": []
    },
    {
      "cell_type": "code",
      "metadata": {
        "id": "KA3-oOMjX5iC",
        "colab_type": "code",
        "colab": {
          "base_uri": "https://localhost:8080/",
          "height": 293
        },
        "outputId": "ae5d9331-91ce-49f1-9856-f5bdd25ee91e"
      },
      "source": [
        "padded_doc = padding_doc(encoded_doc, max_len)\n",
        "print(padded_doc[:5])"
      ],
      "execution_count": 17,
      "outputs": [
        {
          "output_type": "stream",
          "text": [
            "[[ 188    4 2841 2842 2843   17  184   35    0    0    0    0    0    0\n",
            "     0    0    0    0    0    0    0    0    0    0    0    0    0    0\n",
            "     0    0    0    0    0]\n",
            " [  11  361    4   19    4    1  456  870 1049   15    0    0    0    0\n",
            "     0    0    0    0    0    0    0    0    0    0    0    0    0    0\n",
            "     0    0    0    0    0]\n",
            " [   7   29   18   36   90    2   64  242    6   51   24    2  112   64\n",
            "     6   20    0    0    0    0    0    0    0    0    0    0    0    0\n",
            "     0    0    0    0    0]\n",
            " [   9    1   46  426 1050 2844    0    0    0    0    0    0    0    0\n",
            "     0    0    0    0    0    0    0    0    0    0    0    0    0    0\n",
            "     0    0    0    0    0]\n",
            " [  55   11 1789 1790    4   13   15   18   10 2845    0    0    0    0\n",
            "     0    0    0    0    0    0    0    0    0    0    0    0    0    0\n",
            "     0    0    0    0    0]]\n"
          ],
          "name": "stdout"
        }
      ]
    },
    {
      "cell_type": "code",
      "metadata": {
        "id": "tMwmHu5HX9VZ",
        "colab_type": "code",
        "colab": {
          "base_uri": "https://localhost:8080/",
          "height": 35
        },
        "outputId": "753e1faf-1a29-4e5a-9940-3d503008764b"
      },
      "source": [
        "print(\"Shape of padded docs = \",padded_doc.shape)"
      ],
      "execution_count": 18,
      "outputs": [
        {
          "output_type": "stream",
          "text": [
            "Shape of padded docs =  (7000, 33)\n"
          ],
          "name": "stdout"
        }
      ]
    },
    {
      "cell_type": "code",
      "metadata": {
        "id": "Jp9qwW1_YBYb",
        "colab_type": "code",
        "colab": {}
      },
      "source": [
        "unique_intent = list(set(dummy_data.intent))\n",
        "output_tokenizer = create_tokenizer(unique_intent, filters = '!\"#$%&()*+,-/:;<=>?@[\\]^`{|}~')"
      ],
      "execution_count": 19,
      "outputs": []
    },
    {
      "cell_type": "code",
      "metadata": {
        "id": "GcCl0COfYHSg",
        "colab_type": "code",
        "colab": {
          "base_uri": "https://localhost:8080/",
          "height": 146
        },
        "outputId": "a23484a5-bd06-4f46-fef3-d4f4e9bca7b7"
      },
      "source": [
        "output_tokenizer.word_index"
      ],
      "execution_count": 20,
      "outputs": [
        {
          "output_type": "execute_result",
          "data": {
            "text/plain": [
              "{'addtoplaylist': 3,\n",
              " 'bookrestaurant': 6,\n",
              " 'getweather': 2,\n",
              " 'playmusic': 4,\n",
              " 'ratebook': 7,\n",
              " 'searchcreativework': 1,\n",
              " 'searchscreeningevent': 5}"
            ]
          },
          "metadata": {
            "tags": []
          },
          "execution_count": 20
        }
      ]
    },
    {
      "cell_type": "code",
      "metadata": {
        "id": "GdI0dPsnYLPZ",
        "colab_type": "code",
        "colab": {}
      },
      "source": [
        "encoded_output = encoding_doc(output_tokenizer, dummy_data.intent)"
      ],
      "execution_count": 21,
      "outputs": []
    },
    {
      "cell_type": "code",
      "metadata": {
        "id": "VUJBO6FTYPBK",
        "colab_type": "code",
        "colab": {
          "base_uri": "https://localhost:8080/",
          "height": 35
        },
        "outputId": "b3016369-9946-4a18-e2d9-42c5dca75c52"
      },
      "source": [
        "encoded_output = np.array(encoded_output).reshape(len(encoded_output), 1)\n",
        "encoded_output.shape"
      ],
      "execution_count": 22,
      "outputs": [
        {
          "output_type": "execute_result",
          "data": {
            "text/plain": [
              "(7000, 1)"
            ]
          },
          "metadata": {
            "tags": []
          },
          "execution_count": 22
        }
      ]
    },
    {
      "cell_type": "code",
      "metadata": {
        "id": "oIOtBxbmYUtG",
        "colab_type": "code",
        "colab": {}
      },
      "source": [
        "def one_hot(encode):\n",
        "  o = OneHotEncoder(sparse = False)\n",
        "  return(o.fit_transform(encode))"
      ],
      "execution_count": 23,
      "outputs": []
    },
    {
      "cell_type": "code",
      "metadata": {
        "id": "rDJW_CPlYi3w",
        "colab_type": "code",
        "colab": {}
      },
      "source": [
        "output_one_hot = one_hot(encoded_output)"
      ],
      "execution_count": 24,
      "outputs": []
    },
    {
      "cell_type": "code",
      "metadata": {
        "id": "t_9WnqVAYlTX",
        "colab_type": "code",
        "colab": {
          "base_uri": "https://localhost:8080/",
          "height": 35
        },
        "outputId": "99397cb2-6150-4493-b615-f0a544411c75"
      },
      "source": [
        "output_one_hot.shape"
      ],
      "execution_count": 25,
      "outputs": [
        {
          "output_type": "execute_result",
          "data": {
            "text/plain": [
              "(7000, 7)"
            ]
          },
          "metadata": {
            "tags": []
          },
          "execution_count": 25
        }
      ]
    },
    {
      "cell_type": "code",
      "metadata": {
        "id": "wvfmfBOnYoID",
        "colab_type": "code",
        "colab": {}
      },
      "source": [
        "X_train, X_test, Y_train, Y_test = train_test_split(padded_doc, output_one_hot, shuffle = True, test_size = 0.2)"
      ],
      "execution_count": 26,
      "outputs": []
    },
    {
      "cell_type": "code",
      "metadata": {
        "id": "4NUdMpckY7AF",
        "colab_type": "code",
        "colab": {
          "base_uri": "https://localhost:8080/",
          "height": 54
        },
        "outputId": "ae16df4b-3993-44ae-bf34-daedfbb755ab"
      },
      "source": [
        "print(\"Shape of train_X = %s and train_Y = %s\" % (X_train.shape, Y_train.shape))\n",
        "print(\"Shape of val_X = %s and val_Y = %s\" % (X_test.shape, Y_test.shape))"
      ],
      "execution_count": 27,
      "outputs": [
        {
          "output_type": "stream",
          "text": [
            "Shape of train_X = (5600, 33) and train_Y = (5600, 7)\n",
            "Shape of val_X = (1400, 33) and val_Y = (1400, 7)\n"
          ],
          "name": "stdout"
        }
      ]
    },
    {
      "cell_type": "code",
      "metadata": {
        "id": "GnjQO-WsZE6n",
        "colab_type": "code",
        "colab": {}
      },
      "source": [
        "def create_model(vocab_size , max_len):\n",
        "  model = Sequential()\n",
        "  model.add(Embedding(vocab_size , 128,input_length = max_len, trainable = False))\n",
        "  model.add(Bidirectional(LSTM(128)))\n",
        "  model.add(Dense(32,activation = \"relu\"))\n",
        "  model.add(Dropout(0.5))\n",
        "  model.add(Dense(7, activation = \"softmax\"))\n",
        "  return model\n"
      ],
      "execution_count": 29,
      "outputs": []
    },
    {
      "cell_type": "code",
      "metadata": {
        "id": "6W1tQcmYZdnS",
        "colab_type": "code",
        "colab": {}
      },
      "source": [
        "model = create_model(vocab_size , max_len)"
      ],
      "execution_count": 30,
      "outputs": []
    },
    {
      "cell_type": "code",
      "metadata": {
        "id": "M9Qa_pE6Zg6x",
        "colab_type": "code",
        "colab": {
          "base_uri": "https://localhost:8080/",
          "height": 348
        },
        "outputId": "e0516856-2b88-4171-8265-145e61aeabcf"
      },
      "source": [
        "model.compile(loss = \"categorical_crossentropy\", optimizer = \"adam\" ,metrics = [\"accuracy\"])\n",
        "model.summary()"
      ],
      "execution_count": 31,
      "outputs": [
        {
          "output_type": "stream",
          "text": [
            "Model: \"sequential_1\"\n",
            "_________________________________________________________________\n",
            "Layer (type)                 Output Shape              Param #   \n",
            "=================================================================\n",
            "embedding_1 (Embedding)      (None, 33, 128)           968064    \n",
            "_________________________________________________________________\n",
            "bidirectional_1 (Bidirection (None, 256)               263168    \n",
            "_________________________________________________________________\n",
            "dense_1 (Dense)              (None, 32)                8224      \n",
            "_________________________________________________________________\n",
            "dropout_1 (Dropout)          (None, 32)                0         \n",
            "_________________________________________________________________\n",
            "dense_2 (Dense)              (None, 7)                 231       \n",
            "=================================================================\n",
            "Total params: 1,239,687\n",
            "Trainable params: 271,623\n",
            "Non-trainable params: 968,064\n",
            "_________________________________________________________________\n"
          ],
          "name": "stdout"
        }
      ]
    },
    {
      "cell_type": "code",
      "metadata": {
        "id": "td0eEsqDZlk_",
        "colab_type": "code",
        "colab": {
          "base_uri": "https://localhost:8080/",
          "height": 1000
        },
        "outputId": "dc154bef-346c-4b2d-ba52-020b14dc1d9b"
      },
      "source": [
        "filename = \"intent_model.h5\"\n",
        "checkpoint = ModelCheckpoint(filename, monitor='val_loss',verbose=1,save_best_only=True, mode='min')\n",
        "\n",
        "model_fit = model.fit(X_train, Y_train, epochs = 50, batch_size = 32, validation_data = (X_test, Y_test), callbacks = [checkpoint])"
      ],
      "execution_count": 32,
      "outputs": [
        {
          "output_type": "stream",
          "text": [
            "Train on 5600 samples, validate on 1400 samples\n",
            "Epoch 1/50\n",
            "5600/5600 [==============================] - 16s 3ms/step - loss: 1.6064 - accuracy: 0.4034 - val_loss: 0.9123 - val_accuracy: 0.7907\n",
            "\n",
            "Epoch 00001: val_loss improved from inf to 0.91229, saving model to intent_model.h5\n",
            "Epoch 2/50\n",
            "5600/5600 [==============================] - 15s 3ms/step - loss: 0.8922 - accuracy: 0.7002 - val_loss: 0.5246 - val_accuracy: 0.8464\n",
            "\n",
            "Epoch 00002: val_loss improved from 0.91229 to 0.52463, saving model to intent_model.h5\n",
            "Epoch 3/50\n",
            "5600/5600 [==============================] - 15s 3ms/step - loss: 0.5880 - accuracy: 0.8087 - val_loss: 0.4178 - val_accuracy: 0.8793\n",
            "\n",
            "Epoch 00003: val_loss improved from 0.52463 to 0.41783, saving model to intent_model.h5\n",
            "Epoch 4/50\n",
            "5600/5600 [==============================] - 15s 3ms/step - loss: 0.4626 - accuracy: 0.8504 - val_loss: 0.2933 - val_accuracy: 0.9214\n",
            "\n",
            "Epoch 00004: val_loss improved from 0.41783 to 0.29331, saving model to intent_model.h5\n",
            "Epoch 5/50\n",
            "5600/5600 [==============================] - 15s 3ms/step - loss: 0.3955 - accuracy: 0.8782 - val_loss: 0.2970 - val_accuracy: 0.9100\n",
            "\n",
            "Epoch 00005: val_loss did not improve from 0.29331\n",
            "Epoch 6/50\n",
            "5600/5600 [==============================] - 18s 3ms/step - loss: 0.3418 - accuracy: 0.8980 - val_loss: 0.3169 - val_accuracy: 0.9014\n",
            "\n",
            "Epoch 00006: val_loss did not improve from 0.29331\n",
            "Epoch 7/50\n",
            "5600/5600 [==============================] - 15s 3ms/step - loss: 0.3036 - accuracy: 0.9064 - val_loss: 0.2446 - val_accuracy: 0.9271\n",
            "\n",
            "Epoch 00007: val_loss improved from 0.29331 to 0.24464, saving model to intent_model.h5\n",
            "Epoch 8/50\n",
            "5600/5600 [==============================] - 15s 3ms/step - loss: 0.2669 - accuracy: 0.9177 - val_loss: 0.2293 - val_accuracy: 0.9293\n",
            "\n",
            "Epoch 00008: val_loss improved from 0.24464 to 0.22935, saving model to intent_model.h5\n",
            "Epoch 9/50\n",
            "5600/5600 [==============================] - 15s 3ms/step - loss: 0.2459 - accuracy: 0.9302 - val_loss: 0.2184 - val_accuracy: 0.9364\n",
            "\n",
            "Epoch 00009: val_loss improved from 0.22935 to 0.21837, saving model to intent_model.h5\n",
            "Epoch 10/50\n",
            "5600/5600 [==============================] - 15s 3ms/step - loss: 0.2178 - accuracy: 0.9337 - val_loss: 0.2180 - val_accuracy: 0.9364\n",
            "\n",
            "Epoch 00010: val_loss improved from 0.21837 to 0.21800, saving model to intent_model.h5\n",
            "Epoch 11/50\n",
            "5600/5600 [==============================] - 15s 3ms/step - loss: 0.2090 - accuracy: 0.9386 - val_loss: 0.1790 - val_accuracy: 0.9514\n",
            "\n",
            "Epoch 00011: val_loss improved from 0.21800 to 0.17901, saving model to intent_model.h5\n",
            "Epoch 12/50\n",
            "5600/5600 [==============================] - 15s 3ms/step - loss: 0.1871 - accuracy: 0.9454 - val_loss: 0.1818 - val_accuracy: 0.9493\n",
            "\n",
            "Epoch 00012: val_loss did not improve from 0.17901\n",
            "Epoch 13/50\n",
            "5600/5600 [==============================] - 15s 3ms/step - loss: 0.1964 - accuracy: 0.9413 - val_loss: 0.2265 - val_accuracy: 0.9400\n",
            "\n",
            "Epoch 00013: val_loss did not improve from 0.17901\n",
            "Epoch 14/50\n",
            "5600/5600 [==============================] - 15s 3ms/step - loss: 0.1897 - accuracy: 0.9448 - val_loss: 0.2095 - val_accuracy: 0.9436\n",
            "\n",
            "Epoch 00014: val_loss did not improve from 0.17901\n",
            "Epoch 15/50\n",
            "5600/5600 [==============================] - 15s 3ms/step - loss: 0.1713 - accuracy: 0.9477 - val_loss: 0.1819 - val_accuracy: 0.9521\n",
            "\n",
            "Epoch 00015: val_loss did not improve from 0.17901\n",
            "Epoch 16/50\n",
            "5600/5600 [==============================] - 15s 3ms/step - loss: 0.1613 - accuracy: 0.9541 - val_loss: 0.2322 - val_accuracy: 0.9336\n",
            "\n",
            "Epoch 00016: val_loss did not improve from 0.17901\n",
            "Epoch 17/50\n",
            "5600/5600 [==============================] - 15s 3ms/step - loss: 0.1515 - accuracy: 0.9552 - val_loss: 0.1875 - val_accuracy: 0.9514\n",
            "\n",
            "Epoch 00017: val_loss did not improve from 0.17901\n",
            "Epoch 18/50\n",
            "5600/5600 [==============================] - 15s 3ms/step - loss: 0.1434 - accuracy: 0.9596 - val_loss: 0.1756 - val_accuracy: 0.9586\n",
            "\n",
            "Epoch 00018: val_loss improved from 0.17901 to 0.17559, saving model to intent_model.h5\n",
            "Epoch 19/50\n",
            "5600/5600 [==============================] - 15s 3ms/step - loss: 0.1378 - accuracy: 0.9588 - val_loss: 0.1803 - val_accuracy: 0.9579\n",
            "\n",
            "Epoch 00019: val_loss did not improve from 0.17559\n",
            "Epoch 20/50\n",
            "5600/5600 [==============================] - 15s 3ms/step - loss: 0.1184 - accuracy: 0.9638 - val_loss: 0.1667 - val_accuracy: 0.9607\n",
            "\n",
            "Epoch 00020: val_loss improved from 0.17559 to 0.16671, saving model to intent_model.h5\n",
            "Epoch 21/50\n",
            "5600/5600 [==============================] - 15s 3ms/step - loss: 0.1205 - accuracy: 0.9670 - val_loss: 0.2595 - val_accuracy: 0.9329\n",
            "\n",
            "Epoch 00021: val_loss did not improve from 0.16671\n",
            "Epoch 22/50\n",
            "5600/5600 [==============================] - 15s 3ms/step - loss: 0.1155 - accuracy: 0.9645 - val_loss: 0.2016 - val_accuracy: 0.9514\n",
            "\n",
            "Epoch 00022: val_loss did not improve from 0.16671\n",
            "Epoch 23/50\n",
            "5600/5600 [==============================] - 15s 3ms/step - loss: 0.1148 - accuracy: 0.9691 - val_loss: 0.1689 - val_accuracy: 0.9557\n",
            "\n",
            "Epoch 00023: val_loss did not improve from 0.16671\n",
            "Epoch 24/50\n",
            "5600/5600 [==============================] - 15s 3ms/step - loss: 0.0976 - accuracy: 0.9709 - val_loss: 0.1705 - val_accuracy: 0.9571\n",
            "\n",
            "Epoch 00024: val_loss did not improve from 0.16671\n",
            "Epoch 25/50\n",
            "5600/5600 [==============================] - 15s 3ms/step - loss: 0.1076 - accuracy: 0.9666 - val_loss: 0.1571 - val_accuracy: 0.9607\n",
            "\n",
            "Epoch 00025: val_loss improved from 0.16671 to 0.15705, saving model to intent_model.h5\n",
            "Epoch 26/50\n",
            "5600/5600 [==============================] - 15s 3ms/step - loss: 0.0861 - accuracy: 0.9746 - val_loss: 0.1819 - val_accuracy: 0.9607\n",
            "\n",
            "Epoch 00026: val_loss did not improve from 0.15705\n",
            "Epoch 27/50\n",
            "5600/5600 [==============================] - 15s 3ms/step - loss: 0.0856 - accuracy: 0.9737 - val_loss: 0.1970 - val_accuracy: 0.9514\n",
            "\n",
            "Epoch 00027: val_loss did not improve from 0.15705\n",
            "Epoch 28/50\n",
            "5600/5600 [==============================] - 15s 3ms/step - loss: 0.1083 - accuracy: 0.9668 - val_loss: 0.2208 - val_accuracy: 0.9457\n",
            "\n",
            "Epoch 00028: val_loss did not improve from 0.15705\n",
            "Epoch 29/50\n",
            "5600/5600 [==============================] - 15s 3ms/step - loss: 0.0900 - accuracy: 0.9723 - val_loss: 0.2017 - val_accuracy: 0.9536\n",
            "\n",
            "Epoch 00029: val_loss did not improve from 0.15705\n",
            "Epoch 30/50\n",
            "5600/5600 [==============================] - 15s 3ms/step - loss: 0.0812 - accuracy: 0.9737 - val_loss: 0.2191 - val_accuracy: 0.9514\n",
            "\n",
            "Epoch 00030: val_loss did not improve from 0.15705\n",
            "Epoch 31/50\n",
            "5600/5600 [==============================] - 15s 3ms/step - loss: 0.0798 - accuracy: 0.9757 - val_loss: 0.1912 - val_accuracy: 0.9564\n",
            "\n",
            "Epoch 00031: val_loss did not improve from 0.15705\n",
            "Epoch 32/50\n",
            "5600/5600 [==============================] - 15s 3ms/step - loss: 0.0715 - accuracy: 0.9775 - val_loss: 0.2779 - val_accuracy: 0.9414\n",
            "\n",
            "Epoch 00032: val_loss did not improve from 0.15705\n",
            "Epoch 33/50\n",
            "5600/5600 [==============================] - 15s 3ms/step - loss: 0.0704 - accuracy: 0.9786 - val_loss: 0.2018 - val_accuracy: 0.9593\n",
            "\n",
            "Epoch 00033: val_loss did not improve from 0.15705\n",
            "Epoch 34/50\n",
            "5600/5600 [==============================] - 15s 3ms/step - loss: 0.0590 - accuracy: 0.9802 - val_loss: 0.2007 - val_accuracy: 0.9579\n",
            "\n",
            "Epoch 00034: val_loss did not improve from 0.15705\n",
            "Epoch 35/50\n",
            "5600/5600 [==============================] - 15s 3ms/step - loss: 0.0885 - accuracy: 0.9711 - val_loss: 0.1860 - val_accuracy: 0.9550\n",
            "\n",
            "Epoch 00035: val_loss did not improve from 0.15705\n",
            "Epoch 36/50\n",
            "5600/5600 [==============================] - 15s 3ms/step - loss: 0.0733 - accuracy: 0.9764 - val_loss: 0.1943 - val_accuracy: 0.9607\n",
            "\n",
            "Epoch 00036: val_loss did not improve from 0.15705\n",
            "Epoch 37/50\n",
            "5600/5600 [==============================] - 15s 3ms/step - loss: 0.0698 - accuracy: 0.9798 - val_loss: 0.2027 - val_accuracy: 0.9493\n",
            "\n",
            "Epoch 00037: val_loss did not improve from 0.15705\n",
            "Epoch 38/50\n",
            "5600/5600 [==============================] - 15s 3ms/step - loss: 0.0542 - accuracy: 0.9837 - val_loss: 0.2221 - val_accuracy: 0.9557\n",
            "\n",
            "Epoch 00038: val_loss did not improve from 0.15705\n",
            "Epoch 39/50\n",
            "5600/5600 [==============================] - 15s 3ms/step - loss: 0.0595 - accuracy: 0.9825 - val_loss: 0.2630 - val_accuracy: 0.9429\n",
            "\n",
            "Epoch 00039: val_loss did not improve from 0.15705\n",
            "Epoch 40/50\n",
            "5600/5600 [==============================] - 15s 3ms/step - loss: 0.0745 - accuracy: 0.9761 - val_loss: 0.2106 - val_accuracy: 0.9486\n",
            "\n",
            "Epoch 00040: val_loss did not improve from 0.15705\n",
            "Epoch 41/50\n",
            "5600/5600 [==============================] - 15s 3ms/step - loss: 0.0643 - accuracy: 0.9814 - val_loss: 0.1899 - val_accuracy: 0.9586\n",
            "\n",
            "Epoch 00041: val_loss did not improve from 0.15705\n",
            "Epoch 42/50\n",
            "5600/5600 [==============================] - 15s 3ms/step - loss: 0.0473 - accuracy: 0.9846 - val_loss: 0.2763 - val_accuracy: 0.9479\n",
            "\n",
            "Epoch 00042: val_loss did not improve from 0.15705\n",
            "Epoch 43/50\n",
            "5600/5600 [==============================] - 15s 3ms/step - loss: 0.0528 - accuracy: 0.9846 - val_loss: 0.1880 - val_accuracy: 0.9550\n",
            "\n",
            "Epoch 00043: val_loss did not improve from 0.15705\n",
            "Epoch 44/50\n",
            "5600/5600 [==============================] - 15s 3ms/step - loss: 0.0434 - accuracy: 0.9866 - val_loss: 0.1961 - val_accuracy: 0.9579\n",
            "\n",
            "Epoch 00044: val_loss did not improve from 0.15705\n",
            "Epoch 45/50\n",
            "5600/5600 [==============================] - 15s 3ms/step - loss: 0.0355 - accuracy: 0.9884 - val_loss: 0.2495 - val_accuracy: 0.9550\n",
            "\n",
            "Epoch 00045: val_loss did not improve from 0.15705\n",
            "Epoch 46/50\n",
            "5600/5600 [==============================] - 15s 3ms/step - loss: 0.0580 - accuracy: 0.9839 - val_loss: 0.2217 - val_accuracy: 0.9479\n",
            "\n",
            "Epoch 00046: val_loss did not improve from 0.15705\n",
            "Epoch 47/50\n",
            "5600/5600 [==============================] - 20s 4ms/step - loss: 0.0637 - accuracy: 0.9829 - val_loss: 0.2309 - val_accuracy: 0.9521\n",
            "\n",
            "Epoch 00047: val_loss did not improve from 0.15705\n",
            "Epoch 48/50\n",
            "5600/5600 [==============================] - 15s 3ms/step - loss: 0.0776 - accuracy: 0.9770 - val_loss: 0.2053 - val_accuracy: 0.9557\n",
            "\n",
            "Epoch 00048: val_loss did not improve from 0.15705\n",
            "Epoch 49/50\n",
            "5600/5600 [==============================] - 15s 3ms/step - loss: 0.0492 - accuracy: 0.9845 - val_loss: 0.1947 - val_accuracy: 0.9543\n",
            "\n",
            "Epoch 00049: val_loss did not improve from 0.15705\n",
            "Epoch 50/50\n",
            "5600/5600 [==============================] - 15s 3ms/step - loss: 0.0432 - accuracy: 0.9861 - val_loss: 0.2113 - val_accuracy: 0.9521\n",
            "\n",
            "Epoch 00050: val_loss did not improve from 0.15705\n"
          ],
          "name": "stdout"
        }
      ]
    },
    {
      "cell_type": "code",
      "metadata": {
        "id": "lCv37bphaO0f",
        "colab_type": "code",
        "colab": {}
      },
      "source": [
        "def predictions(text):\n",
        "  clean = re.sub(r'[^ a-z A-Z 0-9]', \" \", text)\n",
        "  test_word = word_tokenize(clean)\n",
        "  test_word = [w.lower() for w in test_word]\n",
        "  test_ls = word_tokenizer.texts_to_sequences(test_word)\n",
        "  print(test_word)\n",
        "  \n",
        "  test_ls = np.array(test_ls).reshape(1, len(test_ls))\n",
        " \n",
        "  x = padding_doc(test_ls, max_len)\n",
        "  \n",
        "  pred = model.predict_proba(x)\n",
        "  return pred"
      ],
      "execution_count": 33,
      "outputs": []
    },
    {
      "cell_type": "code",
      "metadata": {
        "id": "ahqPGoVSalJ-",
        "colab_type": "code",
        "colab": {}
      },
      "source": [
        "def get_final_output(pred, classes):\n",
        "  predictions = pred[0]\n",
        " \n",
        "  classes = np.array(classes)\n",
        "  ids = np.argsort(-predictions)\n",
        "  classes = classes[ids]\n",
        "  predictions = -np.sort(-predictions)\n",
        " \n",
        "  for i in range(pred.shape[1]):\n",
        "    print(\"%s has confidence = %s\" % (classes[i], (predictions[i])))"
      ],
      "execution_count": 34,
      "outputs": []
    },
    {
      "cell_type": "code",
      "metadata": {
        "id": "TjjYN76kaqya",
        "colab_type": "code",
        "colab": {
          "base_uri": "https://localhost:8080/",
          "height": 164
        },
        "outputId": "ed25c875-4c29-4810-b75a-8c3f7672840d"
      },
      "source": [
        "text = \"add eye of the tiger to the list\"\n",
        "pred = predictions(text)\n",
        "get_final_output(pred, unique_intent)"
      ],
      "execution_count": 35,
      "outputs": [
        {
          "output_type": "stream",
          "text": [
            "['add', 'eye', 'of', 'the', 'tiger', 'to', 'the', 'list']\n",
            "AddToPlaylist has confidence = 1.0\n",
            "GetWeather has confidence = 1.754686e-08\n",
            "SearchScreeningEvent has confidence = 2.8798948e-09\n",
            "RateBook has confidence = 1.5733876e-09\n",
            "SearchCreativeWork has confidence = 1.2066022e-09\n",
            "PlayMusic has confidence = 4.5615337e-10\n",
            "BookRestaurant has confidence = 2.7473517e-11\n"
          ],
          "name": "stdout"
        }
      ]
    },
    {
      "cell_type": "code",
      "metadata": {
        "id": "IdeeLF1va4dU",
        "colab_type": "code",
        "colab": {
          "base_uri": "https://localhost:8080/",
          "height": 164
        },
        "outputId": "a790ae77-fcc1-4d17-a825-cd7531c51dfc"
      },
      "source": [
        "text = \"find me a table for 4\"\n",
        "pred = predictions(text)\n",
        "get_final_output(pred, unique_intent)"
      ],
      "execution_count": 36,
      "outputs": [
        {
          "output_type": "stream",
          "text": [
            "['find', 'me', 'a', 'table', 'for', '4']\n",
            "SearchCreativeWork has confidence = 0.9382009\n",
            "BookRestaurant has confidence = 0.06174491\n",
            "SearchScreeningEvent has confidence = 4.681304e-05\n",
            "GetWeather has confidence = 6.978286e-06\n",
            "RateBook has confidence = 2.9055872e-07\n",
            "PlayMusic has confidence = 1.2627959e-07\n",
            "AddToPlaylist has confidence = 4.451483e-10\n"
          ],
          "name": "stdout"
        }
      ]
    },
    {
      "cell_type": "code",
      "metadata": {
        "id": "tJzjj1f-dzEV",
        "colab_type": "code",
        "colab": {
          "base_uri": "https://localhost:8080/",
          "height": 164
        },
        "outputId": "d805e634-2ef8-4f09-a152-064841700f0b"
      },
      "source": [
        "text = \"book me a table for 4\"\n",
        "pred = predictions(text)\n",
        "get_final_output(pred, unique_intent)"
      ],
      "execution_count": 37,
      "outputs": [
        {
          "output_type": "stream",
          "text": [
            "['book', 'me', 'a', 'table', 'for', '4']\n",
            "BookRestaurant has confidence = 0.99999857\n",
            "SearchCreativeWork has confidence = 8.642264e-07\n",
            "GetWeather has confidence = 5.855059e-07\n",
            "PlayMusic has confidence = 9.900663e-10\n",
            "SearchScreeningEvent has confidence = 2.7872996e-10\n",
            "RateBook has confidence = 3.235957e-11\n",
            "AddToPlaylist has confidence = 1.0417532e-12\n"
          ],
          "name": "stdout"
        }
      ]
    },
    {
      "cell_type": "code",
      "metadata": {
        "id": "7omMiRzXeJfE",
        "colab_type": "code",
        "colab": {}
      },
      "source": [
        ""
      ],
      "execution_count": null,
      "outputs": []
    }
  ]
}